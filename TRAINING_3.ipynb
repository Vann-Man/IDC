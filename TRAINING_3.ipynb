{
 "cells": [
  {
   "cell_type": "code",
   "execution_count": 24,
   "metadata": {},
   "outputs": [],
   "source": [
    "import tensorflow as tf\n",
    "import keras.api._v2.keras as keras\n",
    "from keras.preprocessing.image import ImageDataGenerator\n",
    "from keras import layers, models\n",
    "from keras.applications import MobileNetV2\n",
    "from PIL import Image\n",
    "import numpy as np"
   ]
  },
  {
   "cell_type": "code",
   "execution_count": 25,
   "metadata": {},
   "outputs": [
    {
     "name": "stdout",
     "output_type": "stream",
     "text": [
      "Found 474 images belonging to 3 classes.\n",
      "Found 117 images belonging to 3 classes.\n"
     ]
    }
   ],
   "source": [
    "img_size = (224, 224)\n",
    "batch_size = 16\n",
    "\n",
    "train_datagen = ImageDataGenerator(\n",
    "    rescale=1./255,\n",
    "    validation_split=0.2,\n",
    "    rotation_range=15,\n",
    "    width_shift_range=0.1,\n",
    "    height_shift_range=0.1,\n",
    "    zoom_range=0.1,\n",
    "    horizontal_flip=True\n",
    ")\n",
    "\n",
    "train_generator = train_datagen.flow_from_directory(\n",
    "    'dataset',\n",
    "    target_size=img_size,\n",
    "    batch_size=batch_size,\n",
    "    class_mode='sparse',\n",
    "    subset='training',\n",
    "    shuffle=True\n",
    ")\n",
    "\n",
    "val_generator = train_datagen.flow_from_directory(\n",
    "    'dataset',\n",
    "    target_size=img_size,\n",
    "    batch_size=batch_size,\n",
    "    class_mode='sparse',\n",
    "    subset='validation',\n",
    "    shuffle=True\n",
    ")"
   ]
  },
  {
   "cell_type": "code",
   "execution_count": 26,
   "metadata": {},
   "outputs": [],
   "source": [
    "base_model = MobileNetV2(\n",
    "    input_shape=img_size + (3,),\n",
    "    include_top=False,\n",
    "    weights='imagenet'\n",
    ")\n",
    "base_model.trainable = False"
   ]
  },
  {
   "cell_type": "code",
   "execution_count": 27,
   "metadata": {},
   "outputs": [],
   "source": [
    "model = models.Sequential([\n",
    "    base_model,\n",
    "    layers.GlobalAveragePooling2D(),\n",
    "    layers.Dense(128, activation='relu'),\n",
    "    layers.Dropout(0.3),\n",
    "    layers.Dense(train_generator.num_classes, activation='softmax')\n",
    "])"
   ]
  },
  {
   "cell_type": "code",
   "execution_count": 28,
   "metadata": {},
   "outputs": [],
   "source": [
    "model.compile(\n",
    "    optimizer='adam',\n",
    "    loss='sparse_categorical_crossentropy',\n",
    "    metrics=['accuracy']\n",
    ")"
   ]
  },
  {
   "cell_type": "code",
   "execution_count": 29,
   "metadata": {},
   "outputs": [
    {
     "name": "stdout",
     "output_type": "stream",
     "text": [
      "Epoch 1/12\n",
      "30/30 [==============================] - 8s 228ms/step - loss: 0.3314 - accuracy: 0.8734 - val_loss: 0.0749 - val_accuracy: 0.9658\n",
      "Epoch 2/12\n",
      "30/30 [==============================] - 6s 189ms/step - loss: 0.0292 - accuracy: 0.9958 - val_loss: 0.0319 - val_accuracy: 0.9915\n",
      "Epoch 3/12\n",
      "30/30 [==============================] - 6s 185ms/step - loss: 0.0091 - accuracy: 1.0000 - val_loss: 0.0255 - val_accuracy: 0.9915\n",
      "Epoch 4/12\n",
      "30/30 [==============================] - 6s 199ms/step - loss: 0.0156 - accuracy: 0.9958 - val_loss: 0.0028 - val_accuracy: 1.0000\n",
      "Epoch 5/12\n",
      "30/30 [==============================] - 6s 183ms/step - loss: 0.0094 - accuracy: 0.9958 - val_loss: 0.0047 - val_accuracy: 1.0000\n",
      "Epoch 6/12\n",
      "30/30 [==============================] - 6s 185ms/step - loss: 0.0110 - accuracy: 0.9979 - val_loss: 0.0016 - val_accuracy: 1.0000\n",
      "Epoch 7/12\n",
      "30/30 [==============================] - 6s 185ms/step - loss: 0.0054 - accuracy: 1.0000 - val_loss: 0.0029 - val_accuracy: 1.0000\n",
      "Epoch 8/12\n",
      "30/30 [==============================] - 6s 188ms/step - loss: 0.0038 - accuracy: 1.0000 - val_loss: 0.0055 - val_accuracy: 1.0000\n",
      "Epoch 9/12\n",
      "30/30 [==============================] - 6s 192ms/step - loss: 0.0029 - accuracy: 1.0000 - val_loss: 0.0017 - val_accuracy: 1.0000\n",
      "Epoch 10/12\n",
      "30/30 [==============================] - 6s 187ms/step - loss: 0.0036 - accuracy: 1.0000 - val_loss: 0.0011 - val_accuracy: 1.0000\n",
      "Epoch 11/12\n",
      "30/30 [==============================] - 6s 183ms/step - loss: 0.0017 - accuracy: 1.0000 - val_loss: 7.0675e-04 - val_accuracy: 1.0000\n",
      "Epoch 12/12\n",
      "30/30 [==============================] - 6s 184ms/step - loss: 0.0016 - accuracy: 1.0000 - val_loss: 0.0072 - val_accuracy: 1.0000\n"
     ]
    }
   ],
   "source": [
    "history = model.fit(\n",
    "    train_generator,\n",
    "    validation_data=val_generator,\n",
    "    epochs=12\n",
    ")"
   ]
  },
  {
   "cell_type": "code",
   "execution_count": 30,
   "metadata": {},
   "outputs": [],
   "source": [
    "model.save(\"plushie_model_4.h5\")"
   ]
  },
  {
   "cell_type": "code",
   "execution_count": 31,
   "metadata": {},
   "outputs": [],
   "source": [
    "from keras.models import load_model\n",
    "\n",
    "model = load_model(\"plushie_model_4.h5\")"
   ]
  },
  {
   "cell_type": "code",
   "execution_count": 41,
   "metadata": {},
   "outputs": [
    {
     "name": "stdout",
     "output_type": "stream",
     "text": [
      "1/1 [==============================] - 0s 24ms/step\n",
      "Predicted class: WEINER\n",
      "Confidence: 99.72%\n"
     ]
    }
   ],
   "source": [
    "from PIL import Image\n",
    "import numpy as np\n",
    "import tensorflow as tf\n",
    "\n",
    "img_size = (224, 224)\n",
    "img_path = \"testWEINER.png\"\n",
    "\n",
    "img = Image.open(img_path).convert(\"RGB\")\n",
    "img = img.resize(img_size)\n",
    "img_array = np.array(img) / 255.0\n",
    "img_array = np.expand_dims(img_array, axis=0)\n",
    "\n",
    "predictions = model.predict(img_array)\n",
    "predicted_probabilities = predictions[0]\n",
    "\n",
    "predicted_class_index = np.argmax(predicted_probabilities)\n",
    "confidence = predicted_probabilities[predicted_class_index] * 100\n",
    "\n",
    "class_labels = list(train_generator.class_indices.keys())\n",
    "predicted_label = class_labels[predicted_class_index]\n",
    "\n",
    "print(f\"Predicted class: {predicted_label}\")\n",
    "print(f\"Confidence: {confidence:.2f}%\")\n"
   ]
  }
 ],
 "metadata": {
  "kernelspec": {
   "display_name": "Python 3",
   "language": "python",
   "name": "python3"
  },
  "language_info": {
   "codemirror_mode": {
    "name": "ipython",
    "version": 3
   },
   "file_extension": ".py",
   "mimetype": "text/x-python",
   "name": "python",
   "nbconvert_exporter": "python",
   "pygments_lexer": "ipython3",
   "version": "3.11.5"
  }
 },
 "nbformat": 4,
 "nbformat_minor": 2
}
